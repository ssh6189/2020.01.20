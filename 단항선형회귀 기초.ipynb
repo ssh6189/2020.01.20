{
 "cells": [
  {
   "cell_type": "code",
   "execution_count": 1,
   "metadata": {
    "ExecuteTime": {
     "end_time": "2020-01-20T23:48:29.900676Z",
     "start_time": "2020-01-20T23:48:29.533660Z"
    }
   },
   "outputs": [],
   "source": [
    "import numpy as np\n",
    "import numpy.linalg as lin #linear algebrea"
   ]
  },
  {
   "cell_type": "code",
   "execution_count": 2,
   "metadata": {
    "ExecuteTime": {
     "end_time": "2020-01-20T23:48:29.922362Z",
     "start_time": "2020-01-20T23:48:29.900676Z"
    }
   },
   "outputs": [
    {
     "name": "stdout",
     "output_type": "stream",
     "text": [
      "[[1 1]\n",
      " [2 1]]\n",
      "(2, 2)\n",
      "[[-1.  1.]\n",
      " [ 2. -1.]]\n"
     ]
    }
   ],
   "source": [
    "a = np.array([[1, 1], [2, 1]])\n",
    "print(a)\n",
    "print(a.shape)\n",
    "\n",
    "a_ = lin.inv(a)\n",
    "print(a_)\n",
    "\n",
    "y = np.array([2, 4]) #얘는 벡터"
   ]
  },
  {
   "cell_type": "code",
   "execution_count": 3,
   "metadata": {
    "ExecuteTime": {
     "end_time": "2020-01-20T23:48:29.932260Z",
     "start_time": "2020-01-20T23:48:29.923359Z"
    }
   },
   "outputs": [
    {
     "name": "stdout",
     "output_type": "stream",
     "text": [
      "(2,)\n",
      "(1, 2)\n",
      "(2, 1)\n",
      "[[2]\n",
      " [4]]\n",
      "[[-2.  2.]\n",
      " [ 8. -4.]]\n",
      "[[2.]\n",
      " [0.]]\n"
     ]
    }
   ],
   "source": [
    "#여기서 w는 기울기와 y절편을 구하는것, y는 행렬이 아니다. rank, 즉 1차원 벡터이다. 행렬은 행렬로 바꾸어야 한다. 그게 나중에\n",
    "#문제를 방지해준다. 따라서, 다음과 같이 정의하는게 좋다. 자동적으로, 변환해 주기는 하지만(브로드캐스팅),\n",
    "#1*2 -> 2*1꼴로 바꾸어 주어야한다. \n",
    "\n",
    "y_1 = np.array([[2, 4]]) #얘는 행렬\n",
    "print(y.shape) #행렬이 아니라, 벡터\n",
    "print(y_1.shape)\n",
    "y_2 = np.array([[2], [4]]) #우리가 원했던, 2*1꼴이 나온다.\n",
    "print(y_2.shape)\n",
    "\n",
    "#이런 방식도 있다.\n",
    "y = np.array([2, 4]).reshape(2,1)\n",
    "print(y)\n",
    "\n",
    "#산술곱\n",
    "w = a_ * y\n",
    "print(w)\n",
    "\n",
    "#행렬곱\n",
    "w = np.matmul(a_, y)\n",
    "print(w)\n",
    "\n",
    "#()는 벡터, []은 행렬"
   ]
  },
  {
   "cell_type": "code",
   "execution_count": 4,
   "metadata": {
    "ExecuteTime": {
     "end_time": "2020-01-20T23:48:29.993512Z",
     "start_time": "2020-01-20T23:48:29.933258Z"
    }
   },
   "outputs": [
    {
     "name": "stdout",
     "output_type": "stream",
     "text": [
      "[[-5.00000000e-01 -3.19189120e-16  5.00000000e-01]\n",
      " [ 1.33333333e+00  3.33333333e-01 -6.66666667e-01]]\n",
      "[[ 2.2       ]\n",
      " [-0.26666667]]\n"
     ]
    }
   ],
   "source": [
    "a = np.array([[1, 1], [2, 1], [3, 1]])\n",
    "a_ = lin.pinv(a)\n",
    "print(a_)\n",
    "\n",
    "y = np.array([2, 4, 6.4]).reshape(3, 1)\n",
    "w = np.matmul(a_, y)\n",
    "print(w)\n",
    "\n",
    "#(1, 2), (2, 4), (3, 6.4)를 다 꿰뚫는 선은 존재하지 않는다. 그러나, 우리의 목적이 -무한대에서 무한대까지 모두 나타낼 수 있는 값(선)을\n",
    "#찾는것\n",
    "\n",
    "#x가 1일때, y값 얼마인지\n",
    "#기울기 2.2, y절편 -0.266666667"
   ]
  },
  {
   "cell_type": "code",
   "execution_count": 5,
   "metadata": {
    "ExecuteTime": {
     "end_time": "2020-01-20T23:48:30.000452Z",
     "start_time": "2020-01-20T23:48:29.994469Z"
    }
   },
   "outputs": [
    {
     "name": "stdout",
     "output_type": "stream",
     "text": [
      "1.9333333333333322\n",
      "2.2000000000000006\n",
      "[-22.26666667 -20.06666667 -17.86666667 -15.66666667 -13.46666667\n",
      " -11.26666667  -9.06666667  -6.86666667  -4.66666667  -2.46666667\n",
      "  -0.26666667   1.93333333   4.13333333   6.33333333   8.53333333\n",
      "  10.73333333  12.93333333  15.13333333  17.33333333  19.53333333]\n"
     ]
    }
   ],
   "source": [
    "#x가 1일 때, y가 얼마인지를 보여주는 코드\n",
    "#y = w*x +b, 단순하고, 직관적인 방법\n",
    "y = w[0, 0] * 1 + w[1, 0]\n",
    "print(y)\n",
    "\n",
    "#근사값이 나온다. 다 오차가 존재한다.\n",
    "#하지만, 이렇게 되면, 테스트하기 힘들어진다.\n",
    "\n",
    "x = np.arange(-10, 10)\n",
    "y = w[0, 0]*x + w[1, 0]\n",
    "\n",
    "print(w[0][0])\n",
    "print(y)\n",
    "\n",
    "#np. matmul(w, np.array([1, 1]))"
   ]
  },
  {
   "cell_type": "code",
   "execution_count": 9,
   "metadata": {
    "ExecuteTime": {
     "end_time": "2020-01-20T23:50:31.932077Z",
     "start_time": "2020-01-20T23:50:31.921107Z"
    }
   },
   "outputs": [
    {
     "ename": "LinAlgError",
     "evalue": "Last 2 dimensions of the array must be square",
     "output_type": "error",
     "traceback": [
      "\u001b[1;31m---------------------------------------------------------------------------\u001b[0m",
      "\u001b[1;31mLinAlgError\u001b[0m                               Traceback (most recent call last)",
      "\u001b[1;32m<ipython-input-9-bcb58fa75793>\u001b[0m in \u001b[0;36m<module>\u001b[1;34m\u001b[0m\n\u001b[0;32m      6\u001b[0m \u001b[1;33m\u001b[0m\u001b[0m\n\u001b[0;32m      7\u001b[0m \u001b[0ma\u001b[0m \u001b[1;33m=\u001b[0m \u001b[0mnp\u001b[0m\u001b[1;33m.\u001b[0m\u001b[0marray\u001b[0m\u001b[1;33m(\u001b[0m\u001b[1;33m[\u001b[0m\u001b[1;33m[\u001b[0m\u001b[1;36m2\u001b[0m\u001b[1;33m,\u001b[0m \u001b[1;36m2\u001b[0m\u001b[1;33m,\u001b[0m \u001b[1;36m0\u001b[0m\u001b[1;33m]\u001b[0m\u001b[1;33m,\u001b[0m \u001b[1;33m[\u001b[0m\u001b[1;33m-\u001b[0m\u001b[1;36m2\u001b[0m\u001b[1;33m,\u001b[0m \u001b[1;36m1\u001b[0m\u001b[1;33m,\u001b[0m \u001b[1;36m1\u001b[0m\u001b[1;33m]\u001b[0m\u001b[1;33m]\u001b[0m\u001b[1;33m)\u001b[0m\u001b[1;33m\u001b[0m\u001b[1;33m\u001b[0m\u001b[0m\n\u001b[1;32m----> 8\u001b[1;33m \u001b[0mlin\u001b[0m\u001b[1;33m.\u001b[0m\u001b[0minv\u001b[0m\u001b[1;33m(\u001b[0m\u001b[0ma\u001b[0m\u001b[1;33m)\u001b[0m\u001b[1;33m\u001b[0m\u001b[1;33m\u001b[0m\u001b[0m\n\u001b[0m\u001b[0;32m      9\u001b[0m \u001b[1;33m\u001b[0m\u001b[0m\n\u001b[0;32m     10\u001b[0m \u001b[0ma\u001b[0m \u001b[1;33m=\u001b[0m \u001b[0mnp\u001b[0m\u001b[1;33m.\u001b[0m\u001b[0marray\u001b[0m\u001b[1;33m(\u001b[0m\u001b[1;33m[\u001b[0m\u001b[1;33m[\u001b[0m\u001b[1;36m1\u001b[0m\u001b[1;33m,\u001b[0m \u001b[1;36m2\u001b[0m\u001b[1;33m]\u001b[0m\u001b[1;33m,\u001b[0m \u001b[1;33m[\u001b[0m\u001b[1;36m2\u001b[0m\u001b[1;33m,\u001b[0m \u001b[1;36m4\u001b[0m\u001b[1;33m]\u001b[0m\u001b[1;33m,\u001b[0m \u001b[1;33m[\u001b[0m\u001b[1;36m3\u001b[0m\u001b[1;33m,\u001b[0m \u001b[1;36m6.4\u001b[0m\u001b[1;33m]\u001b[0m\u001b[1;33m]\u001b[0m\u001b[1;33m)\u001b[0m\u001b[1;33m\u001b[0m\u001b[1;33m\u001b[0m\u001b[0m\n",
      "\u001b[1;32mC:\\ProgramData\\Anaconda3\\lib\\site-packages\\numpy\\linalg\\linalg.py\u001b[0m in \u001b[0;36minv\u001b[1;34m(a)\u001b[0m\n\u001b[0;32m    544\u001b[0m     \u001b[0ma\u001b[0m\u001b[1;33m,\u001b[0m \u001b[0mwrap\u001b[0m \u001b[1;33m=\u001b[0m \u001b[0m_makearray\u001b[0m\u001b[1;33m(\u001b[0m\u001b[0ma\u001b[0m\u001b[1;33m)\u001b[0m\u001b[1;33m\u001b[0m\u001b[1;33m\u001b[0m\u001b[0m\n\u001b[0;32m    545\u001b[0m     \u001b[0m_assertRankAtLeast2\u001b[0m\u001b[1;33m(\u001b[0m\u001b[0ma\u001b[0m\u001b[1;33m)\u001b[0m\u001b[1;33m\u001b[0m\u001b[1;33m\u001b[0m\u001b[0m\n\u001b[1;32m--> 546\u001b[1;33m     \u001b[0m_assertNdSquareness\u001b[0m\u001b[1;33m(\u001b[0m\u001b[0ma\u001b[0m\u001b[1;33m)\u001b[0m\u001b[1;33m\u001b[0m\u001b[1;33m\u001b[0m\u001b[0m\n\u001b[0m\u001b[0;32m    547\u001b[0m     \u001b[0mt\u001b[0m\u001b[1;33m,\u001b[0m \u001b[0mresult_t\u001b[0m \u001b[1;33m=\u001b[0m \u001b[0m_commonType\u001b[0m\u001b[1;33m(\u001b[0m\u001b[0ma\u001b[0m\u001b[1;33m)\u001b[0m\u001b[1;33m\u001b[0m\u001b[1;33m\u001b[0m\u001b[0m\n\u001b[0;32m    548\u001b[0m \u001b[1;33m\u001b[0m\u001b[0m\n",
      "\u001b[1;32mC:\\ProgramData\\Anaconda3\\lib\\site-packages\\numpy\\linalg\\linalg.py\u001b[0m in \u001b[0;36m_assertNdSquareness\u001b[1;34m(*arrays)\u001b[0m\n\u001b[0;32m    211\u001b[0m         \u001b[0mm\u001b[0m\u001b[1;33m,\u001b[0m \u001b[0mn\u001b[0m \u001b[1;33m=\u001b[0m \u001b[0ma\u001b[0m\u001b[1;33m.\u001b[0m\u001b[0mshape\u001b[0m\u001b[1;33m[\u001b[0m\u001b[1;33m-\u001b[0m\u001b[1;36m2\u001b[0m\u001b[1;33m:\u001b[0m\u001b[1;33m]\u001b[0m\u001b[1;33m\u001b[0m\u001b[1;33m\u001b[0m\u001b[0m\n\u001b[0;32m    212\u001b[0m         \u001b[1;32mif\u001b[0m \u001b[0mm\u001b[0m \u001b[1;33m!=\u001b[0m \u001b[0mn\u001b[0m\u001b[1;33m:\u001b[0m\u001b[1;33m\u001b[0m\u001b[1;33m\u001b[0m\u001b[0m\n\u001b[1;32m--> 213\u001b[1;33m             \u001b[1;32mraise\u001b[0m \u001b[0mLinAlgError\u001b[0m\u001b[1;33m(\u001b[0m\u001b[1;34m'Last 2 dimensions of the array must be square'\u001b[0m\u001b[1;33m)\u001b[0m\u001b[1;33m\u001b[0m\u001b[1;33m\u001b[0m\u001b[0m\n\u001b[0m\u001b[0;32m    214\u001b[0m \u001b[1;33m\u001b[0m\u001b[0m\n\u001b[0;32m    215\u001b[0m \u001b[1;32mdef\u001b[0m \u001b[0m_assertFinite\u001b[0m\u001b[1;33m(\u001b[0m\u001b[1;33m*\u001b[0m\u001b[0marrays\u001b[0m\u001b[1;33m)\u001b[0m\u001b[1;33m:\u001b[0m\u001b[1;33m\u001b[0m\u001b[1;33m\u001b[0m\u001b[0m\n",
      "\u001b[1;31mLinAlgError\u001b[0m: Last 2 dimensions of the array must be square"
     ]
    }
   ],
   "source": [
    "#numpy의 가장 기본적인 개념은 다차원 배열이라는것, 고속으로 계산 가능, 몇백배 차이가 난다.\n",
    "#파이썬은 인터프리터 언어라, for문을 사용하면 느리지만, numpy는 하나의 타입만을 다루며(문자, 숫자 섞어서 안쓴다.) c로 구현되어 있어\n",
    "#빠르다.\n",
    "\n",
    "#2행렬로 바꿔놓으면, 계산이 정말 빠르게 된다.\n",
    "\n",
    "a = np.array([[2, 2, 0], [-2, 1, 1]])\n",
    "lin.inv(a)\n",
    "\n",
    "a = np.array([[1, 2], [2, 4], [3, 6.4]])\n",
    "print(np.lin.pinv(a))"
   ]
  }
 ],
 "metadata": {
  "kernelspec": {
   "display_name": "Python 3",
   "language": "python",
   "name": "python3"
  },
  "language_info": {
   "codemirror_mode": {
    "name": "ipython",
    "version": 3
   },
   "file_extension": ".py",
   "mimetype": "text/x-python",
   "name": "python",
   "nbconvert_exporter": "python",
   "pygments_lexer": "ipython3",
   "version": "3.7.4"
  }
 },
 "nbformat": 4,
 "nbformat_minor": 2
}
